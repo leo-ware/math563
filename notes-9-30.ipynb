{
 "cells": [
  {
   "cell_type": "code",
   "execution_count": 2,
   "metadata": {},
   "outputs": [],
   "source": [
    "import numpy as np\n",
    "import matplotlib.pyplot as plt\n",
    "from scipy.optimize import fsolve\n",
    "from scipy import stats"
   ]
  },
  {
   "cell_type": "markdown",
   "metadata": {},
   "source": [
    "If a markov is *irreducible* and *aperiodic*, then it has a limiting distribution.\n",
    "\n",
    "- Irreducible: you can get from anywhere to anywhere else\n",
    "- Aperiodic: nodes don't have parities"
   ]
  },
  {
   "cell_type": "code",
   "execution_count": 13,
   "metadata": {},
   "outputs": [
    {
     "data": {
      "text/plain": [
       "array([[0.25      , 0.33333333, 0.5       ],\n",
       "       [0.5       , 0.        , 0.        ],\n",
       "       [0.25      , 0.66666667, 0.5       ]])"
      ]
     },
     "execution_count": 13,
     "metadata": {},
     "output_type": "execute_result"
    }
   ],
   "source": [
    "P = np.array([\n",
    "    [1/4, 1/2, 1/4],\n",
    "    [1/3, 0, 2/3],\n",
    "    [1/2, 0, 1/2]\n",
    "])\n",
    "\n",
    "P = P.T\n",
    "P"
   ]
  },
  {
   "cell_type": "code",
   "execution_count": 14,
   "metadata": {},
   "outputs": [
    {
     "data": {
      "text/plain": [
       "array([ 1.   +0.j        , -0.125+0.26020825j, -0.125-0.26020825j])"
      ]
     },
     "execution_count": 14,
     "metadata": {},
     "output_type": "execute_result"
    }
   ],
   "source": [
    "eig = np.linalg.eig(P)\n",
    "eig.eigenvalues"
   ]
  },
  {
   "cell_type": "code",
   "execution_count": 16,
   "metadata": {},
   "outputs": [
    {
     "data": {
      "text/plain": [
       "array([[6.22301528e-61, 1.94032522e-48, 7.88860905e-31],\n",
       "       [7.88860905e-31, 0.00000000e+00, 0.00000000e+00],\n",
       "       [6.22301528e-61, 2.45965443e-18, 7.88860905e-31]])"
      ]
     },
     "execution_count": 16,
     "metadata": {},
     "output_type": "execute_result"
    }
   ],
   "source": [
    "exp = P**100\n",
    "exp\n",
    "# np.array([1, 0, 0]) @ exp"
   ]
  },
  {
   "cell_type": "markdown",
   "metadata": {},
   "source": [
    "# Gambler's ruin"
   ]
  },
  {
   "cell_type": "markdown",
   "metadata": {},
   "source": [
    "We're gonna do a series of bets against the bank. If we win, money goes up by 1. If we lose, money goes down by 1. We win with probability $P$\n",
    "\n",
    "$$\n",
    "\\begin{bmatrix}\n",
    "1 & 0 & 0 & ... & 0 \\\\\n",
    "1 - p & 0 & p & ... & 0 \\\\\n",
    "0 & 1 - p & 0 & p & ... & 0 \\\\\n",
    "\n",
    "\\end{bmatrix}\n",
    "$$\n",
    "\n",
    "This is not irreducible. If you start at zero, you have nothing to bet. If you start at $N$, the bank has nothing to bet."
   ]
  },
  {
   "cell_type": "code",
   "execution_count": 34,
   "metadata": {},
   "outputs": [
    {
     "data": {
      "text/plain": [
       "array([[1. , 0. , 0. , 0. , 0. ],\n",
       "       [0.4, 0. , 0.6, 0. , 0. ],\n",
       "       [0. , 0.4, 0. , 0.6, 0. ],\n",
       "       [0. , 0. , 0.4, 0. , 0.6],\n",
       "       [0. , 0. , 0. , 0. , 1. ]])"
      ]
     },
     "execution_count": 34,
     "metadata": {},
     "output_type": "execute_result"
    }
   ],
   "source": [
    "N = 5\n",
    "\n",
    "P = np.zeros((N, N))\n",
    "P[0, 0] = 1\n",
    "P[-1, -1] = 1\n",
    "\n",
    "p = 0.4\n",
    "\n",
    "for i in range(1, N - 1):\n",
    "    P[i, i + 1] = 1 - p\n",
    "    P[i, i - 1] = p\n",
    "\n",
    "P"
   ]
  },
  {
   "cell_type": "markdown",
   "metadata": {},
   "source": [
    "What's you probability of winning? Let $Q(n)$ be the probability of winning from state $n$?\n",
    "\n",
    "$$\n",
    "Q(n) = q Q(n - 1) + p Q(n + 1)\n",
    "$$\n",
    "\n",
    "$$\n",
    "Q(0) = 0\n",
    "$$\n",
    "\n",
    "$$\n",
    "Q(1) = 1\n",
    "$$\n",
    "\n",
    "This is a different equation. So, we solve by assuming $Q(n) = r^n$.\n",
    "\n",
    "$$\n",
    "r^n = qr^{n - 1} + pr^{n + 1}\n",
    "$$\n",
    "\n",
    "$$\n",
    "r = q + pr^2\n",
    "$$\n",
    "\n",
    "$$\n",
    "pr^2 - r + q = 0\n",
    "$$\n",
    "\n",
    "$r = 1$ is a solution\n",
    "\n",
    "So, $(r - 1)(pr - q) = 0$\n",
    "\n",
    "$$r = 1, {q\\over p}$$\n",
    "\n",
    "$$Q(n) = r_1 + r_2 ({q \\over p})^n$$\n",
    "\n",
    "Solve for the boundary conditions.\n",
    "\n",
    "$$\n",
    "C({q \\over p})^n - 1\n",
    "$$\n",
    "\n",
    "$$\n",
    "Q(n) = {(qp^{-1})^n - 1 \\over (qp^{-1})^N - 1}\n",
    "$$\n",
    "\n",
    "?????\n",
    "\n",
    "If $q > p$, this is increasing in $n$, so as you get more money, you are more likely to win."
   ]
  },
  {
   "cell_type": "markdown",
   "metadata": {},
   "source": [
    "If $p = q = 0.5$. The above is undefined. Instead, we get the repeated root 1. So, ...??\n",
    "\n",
    "Somehow,\n",
    "\n",
    "$$\n",
    "Q(n) = {n \\over N}\n",
    "$$"
   ]
  },
  {
   "cell_type": "code",
   "execution_count": 44,
   "metadata": {},
   "outputs": [
    {
     "name": "stderr",
     "output_type": "stream",
     "text": [
      "/var/folders/l_/zjyw1l0d37x3lbbq6x4vvs_00000gn/T/ipykernel_17037/4090834465.py:6: RuntimeWarning: invalid value encountered in divide\n",
      "  plt.plot(n, (q_p**n - 1) / (q_p**N - 1), marker='o', label=f\"$p = {p}$\")\n"
     ]
    },
    {
     "data": {
      "text/plain": [
       "<matplotlib.legend.Legend at 0x127eb7980>"
      ]
     },
     "execution_count": 44,
     "metadata": {},
     "output_type": "execute_result"
    },
    {
     "data": {
      "image/png": "[encoded data removed]",
      "text/plain": [
       "<Figure size 640x480 with 1 Axes>"
      ]
     },
     "metadata": {},
     "output_type": "display_data"
    }
   ],
   "source": [
    "N = 10\n",
    "n = np.arange(N)\n",
    "for p in np.linspace(0.1, 0.9, 9):\n",
    "    q = 1 - p\n",
    "    q_p = q / p\n",
    "    plt.plot(n, (q_p**n - 1) / (q_p**N - 1), marker='o', label=f\"$p = {p}$\")\n",
    "\n",
    "plt.legend()"
   ]
  },
  {
   "cell_type": "code",
   "execution_count": 46,
   "metadata": {},
   "outputs": [
    {
     "data": {
      "text/plain": [
       "EigResult(eigenvalues=array([ 1., -1.]), eigenvectors=array([[ 0.70710678, -0.70710678],\n",
       "       [ 0.70710678,  0.70710678]]))"
      ]
     },
     "execution_count": 46,
     "metadata": {},
     "output_type": "execute_result"
    }
   ],
   "source": [
    "foo = np.array([\n",
    "    [0, 1],\n",
    "    [1, 0]\n",
    "])\n",
    "\n",
    "np.linalg.eig(foo)"
   ]
  },
  {
   "cell_type": "markdown",
   "metadata": {},
   "source": [
    "# Age Cohorts in Population Models"
   ]
  },
  {
   "cell_type": "markdown",
   "metadata": {},
   "source": [
    "We have discrete time population model with three cohorts."
   ]
  },
  {
   "cell_type": "code",
   "execution_count": 64,
   "metadata": {},
   "outputs": [
    {
     "data": {
      "text/plain": [
       "array([[0.95, 0.03, 0.  ],\n",
       "       [0.  , 0.6 , 0.5 ],\n",
       "       [0.6 , 0.  , 0.3 ]])"
      ]
     },
     "execution_count": 64,
     "metadata": {},
     "output_type": "execute_result"
    }
   ],
   "source": [
    "# cohort 1 is old, cohort 2 is mid, cohort 3 is young\n",
    "\n",
    "a_11 = 0.05 # old cohort death rate\n",
    "a_12 = 0.03 # old cohort intro rate, survival rate of mid cohort\n",
    "a_22 = 0.4 # mid cohort death rate\n",
    "a_23 = 0.5 # mid cohort intro rate, survival rate of young cohort\n",
    "a_31 = 0.6 # young cohort intro rate, survival rate of old cohort\n",
    "a_33 = 0.7 # young cohort death rate\n",
    "\n",
    "# # values he had in class\n",
    "# A = np.array([\n",
    "#     [0.95, 0.03, 0],\n",
    "#     [0, 9.86, 0.05],\n",
    "#     [0.02, 0.05, ]\n",
    "# ])\n",
    "\n",
    "A = np.array([\n",
    "    [1 - a_11, a_12, 0],\n",
    "    [0, 1 - a_22, a_23],\n",
    "    [a_31, 0, 1 - a_33]\n",
    "])\n",
    "A"
   ]
  },
  {
   "cell_type": "code",
   "execution_count": 65,
   "metadata": {},
   "outputs": [
    {
     "data": {
      "text/plain": [
       "array([[0.96938776, 0.03061224, 0.        ],\n",
       "       [0.        , 0.54545455, 0.45454545],\n",
       "       [0.66666667, 0.        , 0.33333333]])"
      ]
     },
     "execution_count": 65,
     "metadata": {},
     "output_type": "execute_result"
    }
   ],
   "source": [
    "normed_A = A / A.sum(axis=1).reshape(-1, 1)\n",
    "normed_A"
   ]
  },
  {
   "cell_type": "code",
   "execution_count": 57,
   "metadata": {},
   "outputs": [
    {
     "data": {
      "text/plain": [
       "array([[3.48678440e-11, 1.15292150e-02, 6.72749995e+00],\n",
       "       [6.72749995e+00, 9.53674316e-07, 3.65615844e-05],\n",
       "       [3.48678440e-11, 1.21576655e-01, 3.65615844e-05]])"
      ]
     },
     "execution_count": 57,
     "metadata": {},
     "output_type": "execute_result"
    }
   ],
   "source": [
    "normed_A**20"
   ]
  },
  {
   "cell_type": "code",
   "execution_count": null,
   "metadata": {},
   "outputs": [],
   "source": []
  }
 ],
 "metadata": {
  "kernelspec": {
   "display_name": "venv",
   "language": "python",
   "name": "python3"
  },
  "language_info": {
   "codemirror_mode": {
    "name": "ipython",
    "version": 3
   },
   "file_extension": ".py",
   "mimetype": "text/x-python",
   "name": "python",
   "nbconvert_exporter": "python",
   "pygments_lexer": "ipython3",
   "version": "3.12.5"
  }
 },
 "nbformat": 4,
 "nbformat_minor": 2
}
