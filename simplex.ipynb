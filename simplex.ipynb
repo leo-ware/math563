{
 "cells": [
  {
   "cell_type": "markdown",
   "metadata": {},
   "source": [
    "# Simplex Method"
   ]
  },
  {
   "cell_type": "code",
   "execution_count": 1,
   "metadata": {},
   "outputs": [],
   "source": [
    "import numpy as np\n",
    "import matplotlib.pyplot as plt"
   ]
  },
  {
   "cell_type": "markdown",
   "metadata": {},
   "source": [
    "Problem, maximize $cx$ subject to $Ax \\le b$. We will suppose $b > 0$."
   ]
  },
  {
   "cell_type": "code",
   "execution_count": 53,
   "metadata": {},
   "outputs": [],
   "source": [
    "c = np.array([1, 1]).reshape(1, -1)\n",
    "A = np.array([\n",
    "    [2, 1],\n",
    "    [1, 2]\n",
    "])\n",
    "b = np.array([1, 1]).reshape(-1, 1)"
   ]
  },
  {
   "cell_type": "code",
   "execution_count": 91,
   "metadata": {},
   "outputs": [
    {
     "data": {
      "image/png": "[encoded data removed]",
      "text/plain": [
       "<Figure size 640x480 with 1 Axes>"
      ]
     },
     "metadata": {},
     "output_type": "display_data"
    }
   ],
   "source": [
    "mesh = np.linspace(0, 1, 1000)\n",
    "x_mesh, y_mesh = np.meshgrid(mesh, mesh)\n",
    "grid = np.stack([\n",
    "    x_mesh.reshape([*x_mesh.shape, 1]),\n",
    "    y_mesh.reshape([*y_mesh.shape, 1])\n",
    "], axis=2)\n",
    "\n",
    "feasible = np.all((A @ grid) < b.reshape([1, 1, *b.shape]), axis=-2).reshape([*x_mesh.shape])\n",
    "\n",
    "plt.plot(*np.where(feasible), \".\", color=\"lightgray\")\n",
    "tick_indexes = [0, len(mesh)//2, len(mesh)-1]\n",
    "plt.xticks(np.arange(len(mesh))[tick_indexes], np.round(mesh[tick_indexes], 2))\n",
    "plt.yticks(np.arange(len(mesh))[tick_indexes], np.round(mesh[tick_indexes], 2))\n",
    "plt.show()"
   ]
  },
  {
   "cell_type": "markdown",
   "metadata": {},
   "source": [
    "## The Tableau"
   ]
  },
  {
   "cell_type": "markdown",
   "metadata": {},
   "source": [
    "Introduce the slack variables to make the constraint into $Ax + IS = b$, where $S \\ge 0$.\n",
    "\n",
    "We're going to map this whole system of equations into a block matrix called the tableau.\n",
    "\n",
    "$$\n",
    "\\begin{bmatrix}\n",
    "    A & S & b \\\\\n",
    "    -c & 0 & 0\\\\\n",
    "\\end{bmatrix}\n",
    "$$\n",
    "\n",
    "The top row of the block matrix represents the constraints, and the bottom row represents the objective function. We initialize this bottom row at $-cx = z = 0$."
   ]
  },
  {
   "cell_type": "code",
   "execution_count": 111,
   "metadata": {},
   "outputs": [
    {
     "data": {
      "text/plain": [
       "array([[ 2.,  1.,  1.,  0.,  1.],\n",
       "       [ 1.,  2.,  0.,  1.,  1.],\n",
       "       [-1., -1.,  0.,  0.,  0.]])"
      ]
     },
     "execution_count": 111,
     "metadata": {},
     "output_type": "execute_result"
    }
   ],
   "source": [
    "S = np.eye(b.size) # slack variables\n",
    "\n",
    "T = np.block([\n",
    "    [A, S, b],\n",
    "    [-c, np.zeros([1, b.size + 1])]\n",
    "])\n",
    "\n",
    "T"
   ]
  },
  {
   "cell_type": "markdown",
   "metadata": {},
   "source": [
    "## Basic Variables"
   ]
  },
  {
   "cell_type": "markdown",
   "metadata": {},
   "source": [
    "A key concept in the simplex algorithm is the idea of basic variables. In the tableau, a column corresponds to a basic variable if every entry is a zero except for one, which is a one. In the initial tableau, the slack variable are the basic variables.\n",
    "\n",
    "If we think about what this means in the math, it's saying that we have put the equations in a form where there is exactly only one constraint on the variable, and in that constraint the coefficient on the basic variable is one. For example, in the intitial tableau above, $s_1$ is a basic variable, and row 1 corresponds to $2 x_1 + x_2 + s_1 = 1$.\n",
    "\n",
    "What this means is that there is a specific solution to the equations where we set each basic variable to the value of the last column at the row where the basic variable is nonzero.\n",
    "\n",
    "\n",
    "\n",
    "We can perform row operations on \n",
    "\n",
    "We have two interpretations for this system. The first interpretation is that, this represents the system of linear equations defining our system. We can perform row operations and this system will remain unchanged."
   ]
  },
  {
   "cell_type": "code",
   "execution_count": 129,
   "metadata": {},
   "outputs": [
    {
     "name": "stdout",
     "output_type": "stream",
     "text": [
      "[[ 2.  1.  1.  0.  1.]\n",
      " [ 1.  2.  0.  1.  1.]\n",
      " [-1. -1.  0.  0.  0.]]\n",
      "\n",
      "s0 = 1.0\n",
      "s1 = 1.0\n"
     ]
    }
   ],
   "source": [
    "def specific_solution(T):\n",
    "    n_slack_vars = T.shape[0] - 1\n",
    "    n_vars = T.shape[1] - n_slack_vars - 1\n",
    "\n",
    "    basic_vars = []\n",
    "    for j, col in enumerate(T.T):\n",
    "        if np.sum(col) == 1 and np.sum(col[col != 0]) == 1:\n",
    "            i = np.where(col)[0][0]\n",
    "            basic_vars.append((i, j))\n",
    "\n",
    "    for i, j in basic_vars:\n",
    "        slack = (j + 1) > n_vars\n",
    "        char = \"s\" if slack else \"x\"\n",
    "        index = j if not slack else j - n_vars\n",
    "        value = T[i, -1]\n",
    "        print(f\"{char}{index} = {value}\")\n",
    "\n",
    "print(T)\n",
    "print()\n",
    "specific_solution(T)"
   ]
  },
  {
   "cell_type": "markdown",
   "metadata": {},
   "source": [
    "## Pivots\n",
    "\n",
    "Since the tableau represents a linear system, we can apply row operations without modifying the solution set. Transformations like this will change which variables are basic in the tableau though, and so they will change the specific solution that the tableau is associated with.\n",
    "\n",
    "Below is a function that will use row operations to make a variable into a basic variable"
   ]
  },
  {
   "cell_type": "code",
   "execution_count": 130,
   "metadata": {},
   "outputs": [],
   "source": [
    "# perform row operations to create a new basic variable\n",
    "def ge(A, pos):\n",
    "    A = A.copy()\n",
    "    row, col = pos\n",
    "\n",
    "    # make pivot equal one\n",
    "    if A[row, col] == 0:\n",
    "        for i in range(0, A.shape[0]):\n",
    "            if A[i, col] != 0:\n",
    "                A[row, :] += A[i, :]\n",
    "                break\n",
    "    if A[row, col] == 0:\n",
    "        raise ValueError(\"Pivot column is zero\")\n",
    "    A[row, :] = A[row, :] / A[row, col]\n",
    "\n",
    "    # make other rows in the pivot column zero\n",
    "    for i in range(A.shape[0]):\n",
    "        if i != row:\n",
    "            factor = A[i, col] / A[row, col]\n",
    "            A[i, :] = A[i, :] - factor * A[row, :]\n",
    "    return A"
   ]
  },
  {
   "cell_type": "code",
   "execution_count": 131,
   "metadata": {},
   "outputs": [
    {
     "name": "stdout",
     "output_type": "stream",
     "text": [
      "[[ 2.  1.  1.  0.  1.]\n",
      " [ 1.  2.  0.  1.  1.]\n",
      " [-1. -1.  0.  0.  0.]]\n",
      "s0 = 1.0\n",
      "s1 = 1.0\n",
      "\n",
      "[[ 0. -3.  1. -2. -1.]\n",
      " [ 1.  2.  0.  1.  1.]\n",
      " [ 0.  1.  0.  1.  1.]]\n",
      "x0 = 1.0\n",
      "s0 = -1.0\n",
      "s2 = -1.0\n"
     ]
    }
   ],
   "source": [
    "print(T)\n",
    "specific_solution(T)\n",
    "print()\n",
    "print(ge(T, (1, 0)))\n",
    "specific_solution(ge(T, (1, 0)))"
   ]
  },
  {
   "cell_type": "markdown",
   "metadata": {},
   "source": [
    "How do we decide which operations to perform next? For maximization, we are going to make a basic variable out of the variable with the largest negative coefficient in the bottom row. The coefficients along the bottom row represent the $dz/dx_i$, so we want to change the one that has the steepest slope.\n",
    "\n"
   ]
  },
  {
   "cell_type": "code",
   "execution_count": 108,
   "metadata": {},
   "outputs": [
    {
     "name": "stdout",
     "output_type": "stream",
     "text": [
      "[[-1.  2.  1.  3.  4.  1.  0.  0.  3.]\n",
      " [ 4.  1. -2.  3.  1.  0.  1.  0.  2.]\n",
      " [-4. -2.  2.  1.  3.  0.  0.  1.  6.]\n",
      " [-1. -2. -3. -4. -5.  0.  0.  0.  0.]]\n"
     ]
    },
    {
     "data": {
      "text/plain": [
       "array([[ 3.60287970e+15,  1.30604389e+16,  0.00000000e+00,\n",
       "         1.00000000e+00,  0.00000000e+00,  3.60287970e+15,\n",
       "        -2.25179981e+15, -4.05323966e+15, -1.80143985e+16],\n",
       "       [ 3.60287970e+15,  1.30604389e+16,  1.00000000e+00,\n",
       "         0.00000000e+00,  0.00000000e+00,  3.60287970e+15,\n",
       "        -2.25179981e+15, -4.05323966e+15, -1.80143985e+16],\n",
       "       [-3.60287970e+15, -1.30604389e+16,  0.00000000e+00,\n",
       "         0.00000000e+00,  1.00000000e+00, -3.60287970e+15,\n",
       "         2.25179981e+15,  4.05323966e+15,  1.80143985e+16],\n",
       "       [ 7.20575940e+15,  2.61208778e+16,  0.00000000e+00,\n",
       "         0.00000000e+00,  0.00000000e+00,  7.20575940e+15,\n",
       "        -4.50359963e+15, -8.10647933e+15, -3.60287970e+16]])"
      ]
     },
     "execution_count": 108,
     "metadata": {},
     "output_type": "execute_result"
    }
   ],
   "source": [
    "def pick_pivot(T, n_vars=A.shape[1]):\n",
    "    obj_coefs = T[-1, 0:n_vars]\n",
    "    col = np.argmin(obj_coefs)\n",
    "    ratio = T[:-1, -1]/T[:-1, col]\n",
    "    row = np.argmin(ratio)\n",
    "    return [row, col]\n",
    "\n",
    "def step(T):\n",
    "    return ge(T, pick_pivot(T))\n",
    "\n",
    "def done(T, n_vars=A.shape[1]):\n",
    "    z_coefs = T[-1, :n_vars]\n",
    "    return np.all(z_coefs >= 0)\n",
    "\n",
    "limit = 10\n",
    "i = 0\n",
    "while not done(T):\n",
    "    i += 1\n",
    "    T = step(T)\n",
    "\n",
    "    if i > limit:\n",
    "        print(\"limit exceeded\")\n",
    "        break\n",
    "\n",
    "np.round(T)"
   ]
  },
  {
   "cell_type": "markdown",
   "metadata": {},
   "source": [
    "## More on the basic feasible solution\n",
    "\n",
    "You might be in a situation where you have equality constraints. In this case, finding the initial solution can itself be a linear programming problem. To solve this, with the constraint that, e.g., some of your variables need to be positive, you can use simplex to minimize the distance between your solution and the equality constraints."
   ]
  },
  {
   "cell_type": "markdown",
   "metadata": {},
   "source": []
  }
 ],
 "metadata": {
  "kernelspec": {
   "display_name": "venv",
   "language": "python",
   "name": "python3"
  },
  "language_info": {
   "codemirror_mode": {
    "name": "ipython",
    "version": 3
   },
   "file_extension": ".py",
   "mimetype": "text/x-python",
   "name": "python",
   "nbconvert_exporter": "python",
   "pygments_lexer": "ipython3",
   "version": "3.12.5"
  }
 },
 "nbformat": 4,
 "nbformat_minor": 2
}
