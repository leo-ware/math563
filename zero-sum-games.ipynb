{
 "cells": [
  {
   "cell_type": "code",
   "execution_count": 24,
   "metadata": {},
   "outputs": [],
   "source": [
    "import numpy as np\n",
    "import matplotlib.pyplot as plt\n",
    "from scipy.optimize import linprog\n",
    "from scipy.linalg import block_diag"
   ]
  },
  {
   "cell_type": "markdown",
   "metadata": {},
   "source": [
    "# Games"
   ]
  },
  {
   "cell_type": "markdown",
   "metadata": {},
   "source": [
    "- A is a payoff matrix.\n",
    "- Player one chooses the column, player two chooses the row.\n",
    "- $a_{ij}$ is the payoff for player 1\n",
    "- $-a_{ij}$ is the payoff for player 2"
   ]
  },
  {
   "cell_type": "code",
   "execution_count": 4,
   "metadata": {},
   "outputs": [
    {
     "data": {
      "text/plain": [
       "array([[  6,   8,   9, -15,  -5,   2],\n",
       "       [-16,   1,   3,  -6,  23,  -3],\n",
       "       [ -5,  12,  -2,  -4,   6,   1],\n",
       "       [-16, -10,  11,  -9,   3,   7]])"
      ]
     },
     "execution_count": 4,
     "metadata": {},
     "output_type": "execute_result"
    }
   ],
   "source": [
    "A = np.array([\n",
    "    [6, 8, 9, -15, -5, 2],\n",
    "    [-16, 1, 3, -6, 23, -3],\n",
    "    [-5, 12, -2, -4, 6, 1],\n",
    "    [-16, -10, 11, -9, 3, 7]\n",
    "])\n",
    "\n",
    "A"
   ]
  },
  {
   "cell_type": "code",
   "execution_count": 15,
   "metadata": {},
   "outputs": [
    {
     "data": {
      "text/plain": [
       "array([0.25, 0.25, 0.25, 0.25])"
      ]
     },
     "execution_count": 15,
     "metadata": {},
     "output_type": "execute_result"
    }
   ],
   "source": [
    "# represents uniform mixed strategys\n",
    "p_1 = np.ones(A.shape[1]) / A.shape[1]\n",
    "p_2 = np.ones(A.shape[0]) / A.shape[0]\n",
    "\n",
    "p_2\n"
   ]
  },
  {
   "cell_type": "code",
   "execution_count": 11,
   "metadata": {},
   "outputs": [
    {
     "data": {
      "text/plain": [
       "array([ 0.83333333,  0.33333333,  1.33333333, -2.33333333])"
      ]
     },
     "execution_count": 11,
     "metadata": {},
     "output_type": "execute_result"
    }
   ],
   "source": [
    "# Expected payoffs for players one under this strategy conditioned on different plays for players 2.\n",
    "A @ p_1"
   ]
  },
  {
   "cell_type": "markdown",
   "metadata": {},
   "source": [
    "Expected Payoff for Player 1 $= (A p_1)^T p_2$\n",
    "Expected Payoff for Player 2 $= -(A^T p_2)^T p_2$"
   ]
  },
  {
   "cell_type": "code",
   "execution_count": 22,
   "metadata": {},
   "outputs": [],
   "source": [
    "e_1 = (A @ p_1) @ p_2\n",
    "e_2 = -(A.T @ p_2) @ p_1"
   ]
  },
  {
   "cell_type": "markdown",
   "metadata": {},
   "source": [
    "Modeling the constraints:\n",
    "\n",
    "$p_1^T 1 = 1\\\\$\n",
    "$p_2^T 1 = 1$\n",
    "\n",
    "$x = [p_1^T, p_2^T]^T$\n",
    "\n",
    "$A_{eq} = \\begin{bmatrix}\n",
    "    1 & ... & 1 & 0 &...& 0 \\\\\n",
    "    0 &...& 0 & 1 & ... & 1\\\\\n",
    "\\end{bmatrix}$\n",
    "\n",
    "$b_{eq} = \\begin{bmatrix}\n",
    "    1 \\\\\n",
    "    1\n",
    "\\end{bmatrix}$\n",
    "\n",
    "$A_{eq}x = b_{eq}$\n",
    "\n"
   ]
  },
  {
   "cell_type": "code",
   "execution_count": 28,
   "metadata": {},
   "outputs": [
    {
     "data": {
      "text/plain": [
       "array([[1., 1., 1., 1., 1., 1., 0., 0., 0., 0.],\n",
       "       [0., 0., 0., 0., 0., 0., 1., 1., 1., 1.]])"
      ]
     },
     "execution_count": 28,
     "metadata": {},
     "output_type": "execute_result"
    }
   ],
   "source": [
    "A_eq = block_diag(np.ones_like(p_1), np.ones_like(p_2))\n",
    "b_eq = np.ones(2)\n",
    "\n",
    "res = linprog(c=np.zeros(A.shape[1] + A.shape[0]), A_ub=A, b_ub=np.zeros(A.shape[0]), A_eq=A_eq, b_eq=b_eq, bounds=(0, 1))\n",
    "res"
   ]
  },
  {
   "cell_type": "code",
   "execution_count": null,
   "metadata": {},
   "outputs": [],
   "source": []
  }
 ],
 "metadata": {
  "kernelspec": {
   "display_name": "venv",
   "language": "python",
   "name": "python3"
  },
  "language_info": {
   "codemirror_mode": {
    "name": "ipython",
    "version": 3
   },
   "file_extension": ".py",
   "mimetype": "text/x-python",
   "name": "python",
   "nbconvert_exporter": "python",
   "pygments_lexer": "ipython3",
   "version": "3.12.5"
  }
 },
 "nbformat": 4,
 "nbformat_minor": 2
}
